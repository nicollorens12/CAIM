{
 "cells": [
  {
   "cell_type": "markdown",
   "metadata": {},
   "source": [
    "## Validation of the user based recommender\n",
    "\n",
    "In this notebook, we will validate the user based recommender we implemented. We will compare it with the Naive Recommender we first implemented."
   ]
  },
  {
   "cell_type": "code",
   "execution_count": 8,
   "metadata": {},
   "outputs": [],
   "source": [
    "import pandas as pd\n",
    "import numpy as np\n",
    "import utils as ut\n",
    "import naive_recommender as nav\n",
    "import similarity as sim\n",
    "from user_based_recommender import user_based_recommender, generate_m"
   ]
  },
  {
   "cell_type": "markdown",
   "metadata": {},
   "source": [
    "## Auxiliary functions\n",
    "\n",
    "This functions are used to check de performance of the recommender. As the recommenders gives us sets of recommended movies, we will be using de Jaccard similarty. This similarity is defined as the intersection of the sets divided by the union of the sets."
   ]
  },
  {
   "cell_type": "code",
   "execution_count": 9,
   "metadata": {},
   "outputs": [],
   "source": [
    "def jaccard_similarity(set1, set2):\n",
    "    \"\"\"\n",
    "    Calcula la similitud de Jaccard entre dos conjuntos.\n",
    "    \"\"\"\n",
    "    intersection = len(set1.intersection(set2))\n",
    "    union = len(set1.union(set2))\n",
    "    return intersection / union if union != 0 else 0\n",
    "\n",
    "\n",
    "def validate_recommenders_jaccard(user_id, validation_movies, rec1_movies, rec2_movies, matrix_genres):\n",
    "    \"\"\"\n",
    "    Valida las recomendaciones comparando las distribuciones de géneros (basadas en conjuntos)\n",
    "    entre las películas de validación y las recomendaciones utilizando similitud de Jaccard.\n",
    "    \"\"\"\n",
    "    def calculate_genre_set(movies, matrix_genres):\n",
    "        \"\"\"\n",
    "        Calcula el conjunto de géneros asociados a un conjunto de películas.\n",
    "        \n",
    "        Args:\n",
    "            movies (list): Lista de IDs de películas.\n",
    "            matrix_genres (DataFrame): Matriz de géneros (película vs. géneros).\n",
    "            \n",
    "        Returns:\n",
    "            set: Conjunto de géneros asociados a las películas.\n",
    "        \"\"\"\n",
    "        valid_movies = [movie_id for movie_id in movies if movie_id in matrix_genres.index]\n",
    "        \n",
    "        genre_set = set()\n",
    "        for movie_id in valid_movies:\n",
    "            genres = matrix_genres.loc[movie_id]\n",
    "            genre_set.update(genres[genres == 1].index)  \n",
    "            \n",
    "        return genre_set\n",
    "\n",
    "    validation_genres = calculate_genre_set(validation_movies, matrix_genres)\n",
    "    rec1_genres = calculate_genre_set(rec1_movies, matrix_genres)\n",
    "    rec2_genres = calculate_genre_set(rec2_movies, matrix_genres)\n",
    "\n",
    "    rec1_similarity = jaccard_similarity(validation_genres, rec1_genres)\n",
    "    rec2_similarity = jaccard_similarity(validation_genres, rec2_genres)\n",
    "\n",
    "    return {\n",
    "        \"user_id\": user_id,\n",
    "        \"rec1_similarity\": rec1_similarity,\n",
    "        \"rec2_similarity\": rec2_similarity,\n",
    "        \"validation_genres\": validation_genres,\n",
    "        \"rec1_genres\": rec1_genres,\n",
    "        \"rec2_genres\": rec2_genres,\n",
    "    }\n"
   ]
  },
  {
   "cell_type": "markdown",
   "metadata": {},
   "source": [
    "### Testing"
   ]
  },
  {
   "cell_type": "code",
   "execution_count": 10,
   "metadata": {},
   "outputs": [
    {
     "name": "stderr",
     "output_type": "stream",
     "text": [
      "c:\\Users\\Nico\\Desktop\\UPC\\CAIM\\Lab6 - Recommender Systems\\utils.py:82: FutureWarning: ChainedAssignmentError: behaviour will change in pandas 3.0!\n",
      "You are setting values through chained assignment. Currently this works in certain cases, but when using Copy-on-Write (which will become the default behaviour in pandas 3.0) this will never work to update the original DataFrame or Series, because the intermediate object on which we are setting values will behave as a copy.\n",
      "A typical example is when you are setting values in a column of a DataFrame, like:\n",
      "\n",
      "df[\"col\"][row_indexer] = value\n",
      "\n",
      "Use `df.loc[row_indexer, \"col\"] = values` instead, to perform the assignment in a single step and ensure this keeps updating the original `df`.\n",
      "\n",
      "See the caveats in the documentation: https://pandas.pydata.org/pandas-docs/stable/user_guide/indexing.html#returning-a-view-versus-a-copy\n",
      "\n",
      "  for genre in genres: matrix.loc[idx_movie][genre] = 1\n"
     ]
    }
   ],
   "source": [
    "path_to_ml_latest_small = 'datasets/'\n",
    "dataset = ut.load_dataset_from_source(path_to_ml_latest_small)\n",
    "\n",
    "val_movies = 100  # Increased to reduce data sparsity\n",
    "ratings_train, ratings_val = ut.split_users(dataset[\"ratings.csv\"], val_movies)\n",
    "\n",
    "matrix_genres = ut.matrix_genres(dataset[\"movies.csv\"])\n",
    "matrix_genres.reset_index(inplace=True)\n",
    "\n",
    "m = generate_m(ratings_train, dataset[\"movies.csv\"])\n",
    "\n",
    "user_results = []\n",
    "for user_id in ratings_val[\"userId\"].unique()[:10]:\n",
    "    validation_movies = ratings_val[ratings_val[\"userId\"] == user_id][\"movieId\"].tolist()\n",
    "\n",
    "    rec1 = nav.naive_recommender(ratings_train, dataset[\"movies.csv\"])      \n",
    "    rec1_movies = [movie_id for movie_id in rec1 if movie_id in matrix_genres.index][:10]\n",
    "\n",
    "    if user_id in m.index:\n",
    "        rec2 = user_based_recommender(user_id, m)\n",
    "        if not rec2:\n",
    "            print(f\"No recommendations generated for user {user_id}\")\n",
    "            rec2_movies = []\n",
    "        else:\n",
    "            rec2_movies = [r[0] for r in rec2 if r[0] in matrix_genres.index][:10]\n",
    "\n",
    "        result = validate_recommenders_jaccard(user_id, validation_movies, rec1_movies, rec2_movies, matrix_genres)\n",
    "        user_results.append(result)\n",
    "    else:\n",
    "        print(f\"User {user_id} not found in the training matrix. Skipping...\")"
   ]
  },
  {
   "cell_type": "code",
   "execution_count": 11,
   "metadata": {},
   "outputs": [
    {
     "name": "stdout",
     "output_type": "stream",
     "text": [
      "Average Jaccard Similarity:\n",
      "  Naive Recommender: 0.1772\n",
      "  User-based Recommender: 0.4704\n"
     ]
    },
    {
     "data": {
      "image/png": "[encoded data removed]",
      "text/plain": [
       "<Figure size 800x600 with 1 Axes>"
      ]
     },
     "metadata": {},
     "output_type": "display_data"
    }
   ],
   "source": [
    "import matplotlib.pyplot as plt\n",
    "import seaborn as sns\n",
    "\n",
    "# Extract similarity scores for each recommender\n",
    "rec1_similarities = [result['rec1_similarity'] for result in user_results]\n",
    "rec2_similarities = [result['rec2_similarity'] for result in user_results]\n",
    "\n",
    "print(\"Average Jaccard Similarity:\")\n",
    "print(f\"  Naive Recommender: {np.mean(rec1_similarities):.4f}\")\n",
    "print(f\"  User-based Recommender: {np.mean(rec2_similarities):.4f}\")\n",
    "\n",
    "plt.figure(figsize=(8, 6))\n",
    "sns.boxplot(data=[rec1_similarities, rec2_similarities], palette=['blue', 'orange'])\n",
    "plt.xticks([0, 1], ['Naive Recommender', 'User-based Recommender'])\n",
    "plt.title('Comparison of Jaccard Similarities')\n",
    "plt.ylabel('Jaccard Similarity')\n",
    "plt.show()"
   ]
  },
  {
   "cell_type": "code",
   "execution_count": 12,
   "metadata": {},
   "outputs": [
    {
     "name": "stdout",
     "output_type": "stream",
     "text": [
      "T-test Results:\n",
      "  T-statistic: -9.4322\n",
      "  P-value: 0.0000\n",
      "The difference in performance between the two recommenders is statistically significant.\n"
     ]
    }
   ],
   "source": [
    "import scipy.stats as stats\n",
    "\n",
    "t_stat, p_value = stats.ttest_ind(rec1_similarities, rec2_similarities)\n",
    "\n",
    "print(\"T-test Results:\")\n",
    "print(f\"  T-statistic: {t_stat:.4f}\")\n",
    "print(f\"  P-value: {p_value:.4f}\")\n",
    "\n",
    "alpha = 0.05  # Significance level\n",
    "if p_value < alpha:\n",
    "    print(\"The difference in performance between the two recommenders is statistically significant.\")\n",
    "else:\n",
    "    print(\"There is no statistically significant difference in performance between the two recommenders.\")"
   ]
  },
  {
   "cell_type": "code",
   "execution_count": 13,
   "metadata": {},
   "outputs": [
    {
     "name": "stderr",
     "output_type": "stream",
     "text": [
      "c:\\Users\\Nico\\Desktop\\UPC\\CAIM\\Lab6 - Recommender Systems\\utils.py:82: FutureWarning: ChainedAssignmentError: behaviour will change in pandas 3.0!\n",
      "You are setting values through chained assignment. Currently this works in certain cases, but when using Copy-on-Write (which will become the default behaviour in pandas 3.0) this will never work to update the original DataFrame or Series, because the intermediate object on which we are setting values will behave as a copy.\n",
      "A typical example is when you are setting values in a column of a DataFrame, like:\n",
      "\n",
      "df[\"col\"][row_indexer] = value\n",
      "\n",
      "Use `df.loc[row_indexer, \"col\"] = values` instead, to perform the assignment in a single step and ensure this keeps updating the original `df`.\n",
      "\n",
      "See the caveats in the documentation: https://pandas.pydata.org/pandas-docs/stable/user_guide/indexing.html#returning-a-view-versus-a-copy\n",
      "\n",
      "  for genre in genres: matrix.loc[idx_movie][genre] = 1\n"
     ]
    },
    {
     "name": "stdout",
     "output_type": "stream",
     "text": [
      "Average time for Naive Recommender: 0.0040 seconds\n",
      "Average time for User-based Recommender: 8.2639 seconds\n"
     ]
    }
   ],
   "source": [
    "import time\n",
    "\n",
    "path_to_ml_latest_small = 'datasets/'\n",
    "dataset = ut.load_dataset_from_source(path_to_ml_latest_small)\n",
    "\n",
    "avg_naive_time = 0\n",
    "avg_user_time = 0\n",
    "\n",
    "val_movies = 5  # Increased to reduce data sparsity\n",
    "ratings_train, ratings_val = ut.split_users(dataset[\"ratings.csv\"], val_movies)\n",
    "\n",
    "matrix_genres = ut.matrix_genres(dataset[\"movies.csv\"])\n",
    "matrix_genres.reset_index(inplace=True)\n",
    "\n",
    "m = generate_m(ratings_train, dataset[\"movies.csv\"])\n",
    "\n",
    "user_results = []\n",
    "for user_id in ratings_val[\"userId\"].unique()[:10]:\n",
    "    validation_movies = ratings_val[ratings_val[\"userId\"] == user_id][\"movieId\"].tolist()\n",
    "\n",
    "    start_time = time.time()\n",
    "    rec1 = nav.naive_recommender(ratings_train, dataset[\"movies.csv\"])      \n",
    "    naive_time = time.time() - start_time\n",
    "    avg_naive_time += naive_time\n",
    "    rec1_movies = [movie_id for movie_id in rec1 if movie_id in matrix_genres.index][:10]\n",
    "\n",
    "    if user_id in m.index:\n",
    "        start_time = time.time()\n",
    "        rec2 = user_based_recommender(user_id, m)\n",
    "        user_time = time.time() - start_time\n",
    "        avg_user_time += user_time\n",
    "\n",
    "        if not rec2:\n",
    "            print(f\"No recommendations generated for user {user_id}\")\n",
    "            rec2_movies = []\n",
    "        else:\n",
    "            rec2_movies = [r[0] for r in rec2 if r[0] in matrix_genres.index][:10]\n",
    "\n",
    "        result = validate_recommenders_jaccard(user_id, validation_movies, rec1_movies, rec2_movies, matrix_genres)\n",
    "        user_results.append(result)\n",
    "    else:\n",
    "        print(f\"User {user_id} not found in the training matrix. Skipping...\")\n",
    "\n",
    "avg_naive_time /= len(ratings_val[\"userId\"].unique()[:10])\n",
    "avg_user_time /= len(ratings_val[\"userId\"].unique()[:10])\n",
    "\n",
    "print(f\"Average time for Naive Recommender: {avg_naive_time:.4f} seconds\")\n",
    "print(f\"Average time for User-based Recommender: {avg_user_time:.4f} seconds\")\n"
   ]
  },
  {
   "cell_type": "code",
   "execution_count": 14,
   "metadata": {},
   "outputs": [
    {
     "name": "stdout",
     "output_type": "stream",
     "text": [
      "Average Jaccard Similarity:\n",
      "  Naive Recommender: 0.3335\n",
      "  User-based Recommender: 0.3221\n"
     ]
    },
    {
     "data": {
      "image/png": "[encoded data removed]",
      "text/plain": [
       "<Figure size 800x600 with 1 Axes>"
      ]
     },
     "metadata": {},
     "output_type": "display_data"
    }
   ],
   "source": [
    "import matplotlib.pyplot as plt\n",
    "import seaborn as sns\n",
    "\n",
    "# Extract similarity scores for each recommender\n",
    "rec1_similarities = [result['rec1_similarity'] for result in user_results]\n",
    "rec2_similarities = [result['rec2_similarity'] for result in user_results]\n",
    "\n",
    "print(\"Average Jaccard Similarity:\")\n",
    "print(f\"  Naive Recommender: {np.mean(rec1_similarities):.4f}\")\n",
    "print(f\"  User-based Recommender: {np.mean(rec2_similarities):.4f}\")\n",
    "\n",
    "plt.figure(figsize=(8, 6))\n",
    "sns.boxplot(data=[rec1_similarities, rec2_similarities], palette=['blue', 'orange'])\n",
    "plt.xticks([0, 1], ['Naive Recommender', 'User-based Recommender'])\n",
    "plt.title('Comparison of Jaccard Similarities')\n",
    "plt.ylabel('Jaccard Similarity')\n",
    "plt.show()"
   ]
  }
 ],
 "metadata": {
  "kernelspec": {
   "display_name": ".venv",
   "language": "python",
   "name": "python3"
  },
  "language_info": {
   "codemirror_mode": {
    "name": "ipython",
    "version": 3
   },
   "file_extension": ".py",
   "mimetype": "text/x-python",
   "name": "python",
   "nbconvert_exporter": "python",
   "pygments_lexer": "ipython3",
   "version": "3.10.11"
  }
 },
 "nbformat": 4,
 "nbformat_minor": 2
}

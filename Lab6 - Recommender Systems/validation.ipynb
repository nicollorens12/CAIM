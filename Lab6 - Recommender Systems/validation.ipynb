{
 "cells": [
  {
   "cell_type": "markdown",
   "metadata": {},
   "source": [
    "## Validation of the user based recommender\n",
    "\n",
    "In this notebook, we will validate the user based recommender we implemented. We will compare it with the Naive Recommender we first implemented."
   ]
  },
  {
   "cell_type": "code",
   "execution_count": 1,
   "metadata": {},
   "outputs": [],
   "source": [
    "import pandas as pd\n",
    "import numpy as np\n",
    "import utils as ut\n",
    "import naive_recommender as nav\n",
    "import similarity as sim\n",
    "from user_based_recommender import user_based_recommender, generate_m"
   ]
  },
  {
   "cell_type": "markdown",
   "metadata": {},
   "source": [
    "## Aux funcs"
   ]
  },
  {
   "cell_type": "code",
   "execution_count": 2,
   "metadata": {},
   "outputs": [],
   "source": [
    "def jaccard_similarity(set1, set2):\n",
    "    \"\"\"\n",
    "    Calcula la similitud de Jaccard entre dos conjuntos.\n",
    "    \"\"\"\n",
    "    intersection = len(set1.intersection(set2))\n",
    "    union = len(set1.union(set2))\n",
    "    return intersection / union if union != 0 else 0\n",
    "\n",
    "\n",
    "def validate_recommenders_jaccard(user_id, validation_movies, rec1_movies, rec2_movies, matrix_genres):\n",
    "    \"\"\"\n",
    "    Valida las recomendaciones comparando las distribuciones de géneros (basadas en conjuntos)\n",
    "    entre las películas de validación y las recomendaciones utilizando similitud de Jaccard.\n",
    "    \"\"\"\n",
    "    def calculate_genre_set(movies, matrix_genres):\n",
    "        \"\"\"\n",
    "        Calcula el conjunto de géneros asociados a un conjunto de películas.\n",
    "        \n",
    "        Args:\n",
    "            movies (list): Lista de IDs de películas.\n",
    "            matrix_genres (DataFrame): Matriz de géneros (película vs. géneros).\n",
    "            \n",
    "        Returns:\n",
    "            set: Conjunto de géneros asociados a las películas.\n",
    "        \"\"\"\n",
    "        # Filtrar las películas válidas (que existen en matrix_genres)\n",
    "        valid_movies = [movie_id for movie_id in movies if movie_id in matrix_genres.index]\n",
    "        \n",
    "        # Obtener los géneros de las películas válidas\n",
    "        genre_set = set()\n",
    "        for movie_id in valid_movies:\n",
    "            genres = matrix_genres.loc[movie_id]\n",
    "            genre_set.update(genres[genres == 1].index)  # Agregar géneros presentes\n",
    "            \n",
    "        return genre_set\n",
    "\n",
    "    # Calcular los conjuntos de géneros para validación y recomendaciones\n",
    "    validation_genres = calculate_genre_set(validation_movies, matrix_genres)\n",
    "    rec1_genres = calculate_genre_set(rec1_movies, matrix_genres)\n",
    "    rec2_genres = calculate_genre_set(rec2_movies, matrix_genres)\n",
    "\n",
    "    # Calcular las similitudes de las recomendaciones usando Jaccard Similarity\n",
    "    rec1_similarity = jaccard_similarity(validation_genres, rec1_genres)\n",
    "    rec2_similarity = jaccard_similarity(validation_genres, rec2_genres)\n",
    "\n",
    "    return {\n",
    "        \"user_id\": user_id,\n",
    "        \"rec1_similarity\": rec1_similarity,\n",
    "        \"rec2_similarity\": rec2_similarity,\n",
    "        \"validation_genres\": validation_genres,\n",
    "        \"rec1_genres\": rec1_genres,\n",
    "        \"rec2_genres\": rec2_genres,\n",
    "    }\n"
   ]
  },
  {
   "cell_type": "markdown",
   "metadata": {},
   "source": [
    "### Testing"
   ]
  },
  {
   "cell_type": "code",
   "execution_count": 3,
   "metadata": {},
   "outputs": [
    {
     "name": "stderr",
     "output_type": "stream",
     "text": [
      "c:\\Users\\Nico\\Desktop\\UPC\\CAIM\\Lab6 - Recommender Systems\\utils.py:87: FutureWarning: ChainedAssignmentError: behaviour will change in pandas 3.0!\n",
      "You are setting values through chained assignment. Currently this works in certain cases, but when using Copy-on-Write (which will become the default behaviour in pandas 3.0) this will never work to update the original DataFrame or Series, because the intermediate object on which we are setting values will behave as a copy.\n",
      "A typical example is when you are setting values in a column of a DataFrame, like:\n",
      "\n",
      "df[\"col\"][row_indexer] = value\n",
      "\n",
      "Use `df.loc[row_indexer, \"col\"] = values` instead, to perform the assignment in a single step and ensure this keeps updating the original `df`.\n",
      "\n",
      "See the caveats in the documentation: https://pandas.pydata.org/pandas-docs/stable/user_guide/indexing.html#returning-a-view-versus-a-copy\n",
      "\n",
      "  for genre in genres: matrix.loc[idx_movie][genre] = 1\n"
     ]
    },
    {
     "ename": "KeyError",
     "evalue": "np.int64(2)",
     "output_type": "error",
     "traceback": [
      "\u001b[1;31m---------------------------------------------------------------------------\u001b[0m",
      "\u001b[1;31mKeyError\u001b[0m                                  Traceback (most recent call last)",
      "File \u001b[1;32mc:\\Users\\Nico\\Desktop\\UPC\\CAIM\\Lab6 - Recommender Systems\\.venv\\lib\\site-packages\\pandas\\core\\indexes\\base.py:3805\u001b[0m, in \u001b[0;36mIndex.get_loc\u001b[1;34m(self, key)\u001b[0m\n\u001b[0;32m   3804\u001b[0m \u001b[38;5;28;01mtry\u001b[39;00m:\n\u001b[1;32m-> 3805\u001b[0m     \u001b[38;5;28;01mreturn\u001b[39;00m \u001b[38;5;28;43mself\u001b[39;49m\u001b[38;5;241;43m.\u001b[39;49m\u001b[43m_engine\u001b[49m\u001b[38;5;241;43m.\u001b[39;49m\u001b[43mget_loc\u001b[49m\u001b[43m(\u001b[49m\u001b[43mcasted_key\u001b[49m\u001b[43m)\u001b[49m\n\u001b[0;32m   3806\u001b[0m \u001b[38;5;28;01mexcept\u001b[39;00m \u001b[38;5;167;01mKeyError\u001b[39;00m \u001b[38;5;28;01mas\u001b[39;00m err:\n",
      "File \u001b[1;32mindex.pyx:167\u001b[0m, in \u001b[0;36mpandas._libs.index.IndexEngine.get_loc\u001b[1;34m()\u001b[0m\n",
      "File \u001b[1;32mindex.pyx:196\u001b[0m, in \u001b[0;36mpandas._libs.index.IndexEngine.get_loc\u001b[1;34m()\u001b[0m\n",
      "File \u001b[1;32mpandas\\\\_libs\\\\hashtable_class_helper.pxi:2606\u001b[0m, in \u001b[0;36mpandas._libs.hashtable.Int64HashTable.get_item\u001b[1;34m()\u001b[0m\n",
      "File \u001b[1;32mpandas\\\\_libs\\\\hashtable_class_helper.pxi:2630\u001b[0m, in \u001b[0;36mpandas._libs.hashtable.Int64HashTable.get_item\u001b[1;34m()\u001b[0m\n",
      "\u001b[1;31mKeyError\u001b[0m: 2",
      "\nThe above exception was the direct cause of the following exception:\n",
      "\u001b[1;31mKeyError\u001b[0m                                  Traceback (most recent call last)",
      "Cell \u001b[1;32mIn[3], line 19\u001b[0m\n\u001b[0;32m     16\u001b[0m rec1_movies \u001b[38;5;241m=\u001b[39m [movie_id \u001b[38;5;28;01mfor\u001b[39;00m movie_id \u001b[38;5;129;01min\u001b[39;00m rec1 \u001b[38;5;28;01mif\u001b[39;00m movie_id \u001b[38;5;129;01min\u001b[39;00m matrix_genres\u001b[38;5;241m.\u001b[39mindex][:\u001b[38;5;241m10\u001b[39m]  \u001b[38;5;66;03m# Solo las primeras 10\u001b[39;00m\n\u001b[0;32m     18\u001b[0m \u001b[38;5;66;03m# Recomendador basado en usuarios\u001b[39;00m\n\u001b[1;32m---> 19\u001b[0m rec2 \u001b[38;5;241m=\u001b[39m \u001b[43muser_based_recommender\u001b[49m\u001b[43m(\u001b[49m\u001b[43muser_id\u001b[49m\u001b[43m,\u001b[49m\u001b[43m \u001b[49m\u001b[43mm\u001b[49m\u001b[43m)\u001b[49m\n\u001b[0;32m     20\u001b[0m \u001b[38;5;66;03m# Verificar si rec2 tiene recomendaciones\u001b[39;00m\n\u001b[0;32m     21\u001b[0m \u001b[38;5;28;01mif\u001b[39;00m \u001b[38;5;129;01mnot\u001b[39;00m rec2:\n",
      "File \u001b[1;32mc:\\Users\\Nico\\Desktop\\UPC\\CAIM\\Lab6 - Recommender Systems\\user_based_recommender.py:23\u001b[0m, in \u001b[0;36muser_based_recommender\u001b[1;34m(target_user_id, matrix, top_n, consider_genres, genre_matrix)\u001b[0m\n\u001b[0;32m     17\u001b[0m \u001b[38;5;250m\u001b[39m\u001b[38;5;124;03m\"\"\"\u001b[39;00m\n\u001b[0;32m     18\u001b[0m \u001b[38;5;124;03mGenerates movie recommendations for a target user using user-based collaborative filtering.\u001b[39;00m\n\u001b[0;32m     19\u001b[0m \u001b[38;5;124;03mIncludes optimizations for similarity computation and optional genre consideration.\u001b[39;00m\n\u001b[0;32m     20\u001b[0m \u001b[38;5;124;03m\"\"\"\u001b[39;00m\n\u001b[0;32m     22\u001b[0m \u001b[38;5;66;03m# Get the target user's ratings\u001b[39;00m\n\u001b[1;32m---> 23\u001b[0m target_user \u001b[38;5;241m=\u001b[39m \u001b[43mmatrix\u001b[49m\u001b[38;5;241;43m.\u001b[39;49m\u001b[43mloc\u001b[49m\u001b[43m[\u001b[49m\u001b[43mtarget_user_id\u001b[49m\u001b[43m]\u001b[49m\n\u001b[0;32m     25\u001b[0m \u001b[38;5;66;03m# Pre-calculate user means for efficiency\u001b[39;00m\n\u001b[0;32m     26\u001b[0m user_means \u001b[38;5;241m=\u001b[39m matrix\u001b[38;5;241m.\u001b[39mmean(axis\u001b[38;5;241m=\u001b[39m\u001b[38;5;241m1\u001b[39m)\u001b[38;5;241m.\u001b[39mfillna(\u001b[38;5;241m0\u001b[39m)\n",
      "File \u001b[1;32mc:\\Users\\Nico\\Desktop\\UPC\\CAIM\\Lab6 - Recommender Systems\\.venv\\lib\\site-packages\\pandas\\core\\indexing.py:1191\u001b[0m, in \u001b[0;36m_LocationIndexer.__getitem__\u001b[1;34m(self, key)\u001b[0m\n\u001b[0;32m   1189\u001b[0m maybe_callable \u001b[38;5;241m=\u001b[39m com\u001b[38;5;241m.\u001b[39mapply_if_callable(key, \u001b[38;5;28mself\u001b[39m\u001b[38;5;241m.\u001b[39mobj)\n\u001b[0;32m   1190\u001b[0m maybe_callable \u001b[38;5;241m=\u001b[39m \u001b[38;5;28mself\u001b[39m\u001b[38;5;241m.\u001b[39m_check_deprecated_callable_usage(key, maybe_callable)\n\u001b[1;32m-> 1191\u001b[0m \u001b[38;5;28;01mreturn\u001b[39;00m \u001b[38;5;28;43mself\u001b[39;49m\u001b[38;5;241;43m.\u001b[39;49m\u001b[43m_getitem_axis\u001b[49m\u001b[43m(\u001b[49m\u001b[43mmaybe_callable\u001b[49m\u001b[43m,\u001b[49m\u001b[43m \u001b[49m\u001b[43maxis\u001b[49m\u001b[38;5;241;43m=\u001b[39;49m\u001b[43maxis\u001b[49m\u001b[43m)\u001b[49m\n",
      "File \u001b[1;32mc:\\Users\\Nico\\Desktop\\UPC\\CAIM\\Lab6 - Recommender Systems\\.venv\\lib\\site-packages\\pandas\\core\\indexing.py:1431\u001b[0m, in \u001b[0;36m_LocIndexer._getitem_axis\u001b[1;34m(self, key, axis)\u001b[0m\n\u001b[0;32m   1429\u001b[0m \u001b[38;5;66;03m# fall thru to straight lookup\u001b[39;00m\n\u001b[0;32m   1430\u001b[0m \u001b[38;5;28mself\u001b[39m\u001b[38;5;241m.\u001b[39m_validate_key(key, axis)\n\u001b[1;32m-> 1431\u001b[0m \u001b[38;5;28;01mreturn\u001b[39;00m \u001b[38;5;28;43mself\u001b[39;49m\u001b[38;5;241;43m.\u001b[39;49m\u001b[43m_get_label\u001b[49m\u001b[43m(\u001b[49m\u001b[43mkey\u001b[49m\u001b[43m,\u001b[49m\u001b[43m \u001b[49m\u001b[43maxis\u001b[49m\u001b[38;5;241;43m=\u001b[39;49m\u001b[43maxis\u001b[49m\u001b[43m)\u001b[49m\n",
      "File \u001b[1;32mc:\\Users\\Nico\\Desktop\\UPC\\CAIM\\Lab6 - Recommender Systems\\.venv\\lib\\site-packages\\pandas\\core\\indexing.py:1381\u001b[0m, in \u001b[0;36m_LocIndexer._get_label\u001b[1;34m(self, label, axis)\u001b[0m\n\u001b[0;32m   1379\u001b[0m \u001b[38;5;28;01mdef\u001b[39;00m \u001b[38;5;21m_get_label\u001b[39m(\u001b[38;5;28mself\u001b[39m, label, axis: AxisInt):\n\u001b[0;32m   1380\u001b[0m     \u001b[38;5;66;03m# GH#5567 this will fail if the label is not present in the axis.\u001b[39;00m\n\u001b[1;32m-> 1381\u001b[0m     \u001b[38;5;28;01mreturn\u001b[39;00m \u001b[38;5;28;43mself\u001b[39;49m\u001b[38;5;241;43m.\u001b[39;49m\u001b[43mobj\u001b[49m\u001b[38;5;241;43m.\u001b[39;49m\u001b[43mxs\u001b[49m\u001b[43m(\u001b[49m\u001b[43mlabel\u001b[49m\u001b[43m,\u001b[49m\u001b[43m \u001b[49m\u001b[43maxis\u001b[49m\u001b[38;5;241;43m=\u001b[39;49m\u001b[43maxis\u001b[49m\u001b[43m)\u001b[49m\n",
      "File \u001b[1;32mc:\\Users\\Nico\\Desktop\\UPC\\CAIM\\Lab6 - Recommender Systems\\.venv\\lib\\site-packages\\pandas\\core\\generic.py:4301\u001b[0m, in \u001b[0;36mNDFrame.xs\u001b[1;34m(self, key, axis, level, drop_level)\u001b[0m\n\u001b[0;32m   4299\u001b[0m             new_index \u001b[38;5;241m=\u001b[39m index[loc]\n\u001b[0;32m   4300\u001b[0m \u001b[38;5;28;01melse\u001b[39;00m:\n\u001b[1;32m-> 4301\u001b[0m     loc \u001b[38;5;241m=\u001b[39m \u001b[43mindex\u001b[49m\u001b[38;5;241;43m.\u001b[39;49m\u001b[43mget_loc\u001b[49m\u001b[43m(\u001b[49m\u001b[43mkey\u001b[49m\u001b[43m)\u001b[49m\n\u001b[0;32m   4303\u001b[0m     \u001b[38;5;28;01mif\u001b[39;00m \u001b[38;5;28misinstance\u001b[39m(loc, np\u001b[38;5;241m.\u001b[39mndarray):\n\u001b[0;32m   4304\u001b[0m         \u001b[38;5;28;01mif\u001b[39;00m loc\u001b[38;5;241m.\u001b[39mdtype \u001b[38;5;241m==\u001b[39m np\u001b[38;5;241m.\u001b[39mbool_:\n",
      "File \u001b[1;32mc:\\Users\\Nico\\Desktop\\UPC\\CAIM\\Lab6 - Recommender Systems\\.venv\\lib\\site-packages\\pandas\\core\\indexes\\base.py:3812\u001b[0m, in \u001b[0;36mIndex.get_loc\u001b[1;34m(self, key)\u001b[0m\n\u001b[0;32m   3807\u001b[0m     \u001b[38;5;28;01mif\u001b[39;00m \u001b[38;5;28misinstance\u001b[39m(casted_key, \u001b[38;5;28mslice\u001b[39m) \u001b[38;5;129;01mor\u001b[39;00m (\n\u001b[0;32m   3808\u001b[0m         \u001b[38;5;28misinstance\u001b[39m(casted_key, abc\u001b[38;5;241m.\u001b[39mIterable)\n\u001b[0;32m   3809\u001b[0m         \u001b[38;5;129;01mand\u001b[39;00m \u001b[38;5;28many\u001b[39m(\u001b[38;5;28misinstance\u001b[39m(x, \u001b[38;5;28mslice\u001b[39m) \u001b[38;5;28;01mfor\u001b[39;00m x \u001b[38;5;129;01min\u001b[39;00m casted_key)\n\u001b[0;32m   3810\u001b[0m     ):\n\u001b[0;32m   3811\u001b[0m         \u001b[38;5;28;01mraise\u001b[39;00m InvalidIndexError(key)\n\u001b[1;32m-> 3812\u001b[0m     \u001b[38;5;28;01mraise\u001b[39;00m \u001b[38;5;167;01mKeyError\u001b[39;00m(key) \u001b[38;5;28;01mfrom\u001b[39;00m \u001b[38;5;21;01merr\u001b[39;00m\n\u001b[0;32m   3813\u001b[0m \u001b[38;5;28;01mexcept\u001b[39;00m \u001b[38;5;167;01mTypeError\u001b[39;00m:\n\u001b[0;32m   3814\u001b[0m     \u001b[38;5;66;03m# If we have a listlike key, _check_indexing_error will raise\u001b[39;00m\n\u001b[0;32m   3815\u001b[0m     \u001b[38;5;66;03m#  InvalidIndexError. Otherwise we fall through and re-raise\u001b[39;00m\n\u001b[0;32m   3816\u001b[0m     \u001b[38;5;66;03m#  the TypeError.\u001b[39;00m\n\u001b[0;32m   3817\u001b[0m     \u001b[38;5;28mself\u001b[39m\u001b[38;5;241m.\u001b[39m_check_indexing_error(key)\n",
      "\u001b[1;31mKeyError\u001b[0m: np.int64(2)"
     ]
    }
   ],
   "source": [
    "matrix_genres = ut.matrix_genres(dataset[\"movies.csv\"])\n",
    "\n",
    "matrix_genres.reset_index(inplace=True)\n",
    "\n",
    "# Generar la matriz usuario-película\n",
    "movies_idx = dataset[\"movies.csv\"][\"movieId\"]\n",
    "users_idy = list(set(ratings_train[\"userId\"].values))\n",
    "m = generate_m(ratings_train, dataset[\"movies.csv\"])  # Correct call\n",
    "# Generar recomendaciones y validar\n",
    "user_results = []\n",
    "for user_id in ratings_val[\"userId\"].unique()[:5]:  # Solo una iteración para depuración\n",
    "    validation_movies = ratings_val[ratings_val[\"userId\"] == user_id][\"movieId\"].tolist()\n",
    "\n",
    "    # Recomendador ingenuo\n",
    "    rec1 = nav.naive_recommender(ratings_train, dataset[\"movies.csv\"])\n",
    "    rec1_movies = [movie_id for movie_id in rec1 if movie_id in matrix_genres.index][:10]  # Solo las primeras 10\n",
    "    \n",
    "    # Recomendador basado en usuarios\n",
    "    rec2 = user_based_recommender(user_id, m)\n",
    "    # Verificar si rec2 tiene recomendaciones\n",
    "    if not rec2:\n",
    "        print(f\"No se generaron recomendaciones para el usuario {user_id}\")\n",
    "        rec2_movies = []\n",
    "    else:\n",
    "        rec2_movies = [r[0] for r in rec2 if r[0] in matrix_genres.index][:10]  # Solo las primeras 10\n",
    "    # Validar los resultados\n",
    "    result = validate_recommenders_jaccard(user_id, validation_movies, rec1_movies, rec2_movies, matrix_genres)\n",
    "    user_results.append(result)\n",
    "# Mostrar resultados\n",
    "print(user_results)"
   ]
  },
  {
   "cell_type": "code",
   "execution_count": null,
   "metadata": {},
   "outputs": [
    {
     "name": "stdout",
     "output_type": "stream",
     "text": [
      "Average Jaccard Similarity:\n",
      "  Naive Recommender: 0.3680\n",
      "  User-based Recommender: 0.3076\n"
     ]
    },
    {
     "data": {
      "image/png": "[encoded data removed]",
      "text/plain": [
       "<Figure size 800x600 with 1 Axes>"
      ]
     },
     "metadata": {},
     "output_type": "display_data"
    }
   ],
   "source": [
    "import matplotlib.pyplot as plt\n",
    "import seaborn as sns\n",
    "\n",
    "# Extract similarity scores for each recommender\n",
    "rec1_similarities = [result['rec1_similarity'] for result in user_results]\n",
    "rec2_similarities = [result['rec2_similarity'] for result in user_results]\n",
    "\n",
    "# --- 1. Summary Statistics ---\n",
    "print(\"Average Jaccard Similarity:\")\n",
    "print(f\"  Naive Recommender: {np.mean(rec1_similarities):.4f}\")\n",
    "print(f\"  User-based Recommender: {np.mean(rec2_similarities):.4f}\")\n",
    "\n",
    "plt.figure(figsize=(8, 6))\n",
    "sns.boxplot(data=[rec1_similarities, rec2_similarities], palette=['blue', 'orange'])\n",
    "plt.xticks([0, 1], ['Naive Recommender', 'User-based Recommender'])\n",
    "plt.title('Comparison of Jaccard Similarities')\n",
    "plt.ylabel('Jaccard Similarity')\n",
    "plt.show()"
   ]
  },
  {
   "cell_type": "code",
   "execution_count": null,
   "metadata": {},
   "outputs": [
    {
     "name": "stdout",
     "output_type": "stream",
     "text": [
      "T-test Results:\n",
      "  T-statistic: 0.4264\n",
      "  P-value: 0.6811\n",
      "There is no statistically significant difference in performance between the two recommenders.\n"
     ]
    }
   ],
   "source": [
    "import scipy.stats as stats\n",
    "\n",
    "# ... (your existing code)\n",
    "\n",
    "# --- 4. Statistical Tests ---\n",
    "\n",
    "# Perform a t-test to compare the means of the two groups\n",
    "t_stat, p_value = stats.ttest_ind(rec1_similarities, rec2_similarities)\n",
    "\n",
    "print(\"T-test Results:\")\n",
    "print(f\"  T-statistic: {t_stat:.4f}\")\n",
    "print(f\"  P-value: {p_value:.4f}\")\n",
    "\n",
    "# Interpret the results\n",
    "alpha = 0.05  # Significance level\n",
    "if p_value < alpha:\n",
    "    print(\"The difference in performance between the two recommenders is statistically significant.\")\n",
    "else:\n",
    "    print(\"There is no statistically significant difference in performance between the two recommenders.\")"
   ]
  }
 ],
 "metadata": {
  "kernelspec": {
   "display_name": ".venv",
   "language": "python",
   "name": "python3"
  },
  "language_info": {
   "codemirror_mode": {
    "name": "ipython",
    "version": 3
   },
   "file_extension": ".py",
   "mimetype": "text/x-python",
   "name": "python",
   "nbconvert_exporter": "python",
   "pygments_lexer": "ipython3",
   "version": "3.10.11"
  }
 },
 "nbformat": 4,
 "nbformat_minor": 2
}
